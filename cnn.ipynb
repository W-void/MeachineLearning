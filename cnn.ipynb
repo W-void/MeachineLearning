{
 "cells": [
  {
   "cell_type": "code",
   "execution_count": null,
   "metadata": {
    "collapsed": true
   },
   "outputs": [],
   "source": [
    "import numpy as np\n",
    "import cv2\n",
    "import matplotlib.pyplot as plt\n",
    "import scipy.io as scio\n",
    "import linearDecode\n",
    "import SoftmaxRe\n",
    "from sklearn.preprocessing import OneHotEncoder, scale\n",
    "from scipy import signal"
   ]
  },
  {
   "cell_type": "code",
   "execution_count": 2,
   "metadata": {},
   "outputs": [],
   "source": [
    "path = 'F:\\\\UFLDL\\\\stlSubset'\n",
    "data_test = scio.loadmat(path + '\\\\stlTestSubset.mat')\n",
    "data_train = scio.loadmat(path + '\\\\stlTrainSubset.mat')\n",
    "\n",
    "x_train, x_test, y_train, y_test = data_train['trainImages'], data_test['testImages'], \\\n",
    "                                   data_train['trainLabels'], data_test['testLabels']"
   ]
  },
  {
   "cell_type": "code",
   "execution_count": 5,
   "metadata": {},
   "outputs": [],
   "source": [
    "def sigmoid(z):\n",
    "    return 1 / (1 + np.exp(-z))\n",
    "\n",
    "\n",
    "def ZCAwhiten(x):\n",
    "    a, _, c, m = x.shape\n",
    "    x = x.reshape(-1, m)\n",
    "    x_mean = np.mean(x, 1).reshape(-1, 1)\n",
    "    x -= x_mean\n",
    "    # inn = x.T @ x\n",
    "    # w, v = np.linalg.eig(inn)\n",
    "    u, w, vh = np.linalg.svd(x)\n",
    "    \n",
    "    epsilon = np.ones((u.shape[0])) * 1e-6\n",
    "    epsilon[:w.shape[0]] = w\n",
    "    x_whiten = u / epsilon @ u.T @ x \n",
    "    return x_whiten.reshape(a, a, c, m)"
   ]
  },
  {
   "cell_type": "code",
   "execution_count": 6,
   "metadata": {},
   "outputs": [],
   "source": [
    "x_train, x_test = ZCAwhiten(x_train), ZCAwhiten(x_test)\n",
    "# x_train = scale(x_train.reshape(-1, x_train.shape[-1]).T).reshape(64, 64, 3, -1)\n",
    "# x_test = scale(x_test.reshape(-1, x_test.shape[-1]).T).reshape(64, 64, 3, -1)"
   ]
  },
  {
   "cell_type": "code",
   "execution_count": 7,
   "metadata": {
    "collapsed": true
   },
   "outputs": [],
   "source": [
    "w_ld = np.load('w_linearDecode.npy')\n",
    "b_ld, w_ld = w_ld[0], w_ld[1:]\n",
    "kernelSize2, featureNum = w_ld.shape\n",
    "kernelSize = np.sqrt(kernelSize2/3)\n",
    "w_ld = w_ld.T.reshape(25, 3, 8, 8, order='C')\n",
    "channelNum = 3\n",
    "img_width, _, _, train_num = x_train.shape"
   ]
  },
  {
   "cell_type": "code",
   "execution_count": 8,
   "metadata": {
    "collapsed": true
   },
   "outputs": [
    {
     "name": "stdout",
     "output_type": "stream",
     "text": [
      "0\n"
     ]
    },
    {
     "name": "stdout",
     "output_type": "stream",
     "text": [
      "100\n"
     ]
    },
    {
     "name": "stdout",
     "output_type": "stream",
     "text": [
      "200\n"
     ]
    },
    {
     "name": "stdout",
     "output_type": "stream",
     "text": [
      "300\n"
     ]
    },
    {
     "name": "stdout",
     "output_type": "stream",
     "text": [
      "400\n"
     ]
    },
    {
     "name": "stdout",
     "output_type": "stream",
     "text": [
      "500\n"
     ]
    },
    {
     "name": "stdout",
     "output_type": "stream",
     "text": [
      "600\n"
     ]
    },
    {
     "name": "stdout",
     "output_type": "stream",
     "text": [
      "700\n"
     ]
    },
    {
     "name": "stdout",
     "output_type": "stream",
     "text": [
      "800\n"
     ]
    },
    {
     "name": "stdout",
     "output_type": "stream",
     "text": [
      "900\n"
     ]
    },
    {
     "name": "stdout",
     "output_type": "stream",
     "text": [
      "1000\n"
     ]
    },
    {
     "name": "stdout",
     "output_type": "stream",
     "text": [
      "1100\n"
     ]
    },
    {
     "name": "stdout",
     "output_type": "stream",
     "text": [
      "1200\n"
     ]
    },
    {
     "name": "stdout",
     "output_type": "stream",
     "text": [
      "1300\n"
     ]
    },
    {
     "name": "stdout",
     "output_type": "stream",
     "text": [
      "1400\n"
     ]
    },
    {
     "name": "stdout",
     "output_type": "stream",
     "text": [
      "1500\n"
     ]
    },
    {
     "name": "stdout",
     "output_type": "stream",
     "text": [
      "1600\n"
     ]
    },
    {
     "name": "stdout",
     "output_type": "stream",
     "text": [
      "1700\n"
     ]
    },
    {
     "name": "stdout",
     "output_type": "stream",
     "text": [
      "1800\n"
     ]
    },
    {
     "name": "stdout",
     "output_type": "stream",
     "text": [
      "1900\n"
     ]
    }
   ],
   "source": [
    "h = np.zeros((img_width, img_width, featureNum, train_num))\n",
    "for t in range(train_num):\n",
    "    if t % 100 == 0:\n",
    "        print(t)\n",
    "    img = x_train[:, :, :, t]\n",
    "    for f in range(featureNum):\n",
    "        w = np.rot90(w_ld[f], 2)\n",
    "        res = cv2.filter2D(img, ddepth=-1, kernel=w.T)\n",
    "        res = np.sum(res, -1) + b_ld[f]\n",
    "        h[:, :, f, t] = sigmoid(res)"
   ]
  },
  {
   "cell_type": "code",
   "execution_count": 9,
   "metadata": {},
   "outputs": [
    {
     "name": "stdout",
     "output_type": "stream",
     "text": [
      "8.0 4 60\n(57, 57, 25, 2000)\n"
     ]
    }
   ],
   "source": [
    "left, right = int(kernelSize // 2), int(img_width - kernelSize // 2)\n",
    "print(kernelSize, left, right)\n",
    "h = h[left-1:right, left-1:right, :, :]\n",
    "print(h.shape)\n",
    "enc = OneHotEncoder()\n",
    "y_train = enc.fit_transform(y_train).toarray()"
   ]
  },
  {
   "cell_type": "code",
   "execution_count": 10,
   "metadata": {},
   "outputs": [],
   "source": [
    "def avePool(x, size):\n",
    "    fil = np.ones((size, size)) / size**2\n",
    "    img_width, _, channelNum, imgNum = x.shape\n",
    "    y_width = img_width // size\n",
    "    y = np.zeros((y_width, y_width, channelNum, imgNum))\n",
    "    for i in range(y_width):\n",
    "        for j in range(y_width):\n",
    "            tmp = x[i*size : (i+1)*size, j*size : (j+1)*size, :, :]\n",
    "            tmp = np.mean(tmp, 0)\n",
    "            tmp = np.mean(tmp, 0)\n",
    "            y[i, j] = tmp\n",
    "\n",
    "    return y"
   ]
  },
  {
   "cell_type": "code",
   "execution_count": 11,
   "metadata": {},
   "outputs": [],
   "source": [
    "h = avePool(h, size=19)"
   ]
  },
  {
   "cell_type": "code",
   "execution_count": 33,
   "metadata": {
    "collapsed": true
   },
   "outputs": [
    {
     "name": "stdout",
     "output_type": "stream",
     "text": [
      "0  :  2.85903876286\n5  :  1.79237389774\n10  :  1.68688229372\n15  :  1.62531924966\n20  :  1.5819596494\n25  :  1.54880832517\n30  :  1.52226617524\n35  :  1.50030335249\n"
     ]
    },
    {
     "name": "stdout",
     "output_type": "stream",
     "text": [
      "40  :  1.4817376931\n45  :  1.46573163245\n50  :  1.45177364918\n55  :  1.43941763952\n60  :  1.42842360901\n65  :  1.41850024121\n70  :  1.40955246591\n"
     ]
    },
    {
     "name": "stdout",
     "output_type": "stream",
     "text": [
      "75  :  1.40134536466\n80  :  1.39388742786\n85  :  1.38694331713\n90  :  1.3806221362\n95  :  1.37464115741\n100  :  1.36923357779\n"
     ]
    },
    {
     "name": "stdout",
     "output_type": "stream",
     "text": [
      "105  :  1.36401745475\n110  :  1.35939972856\n115  :  1.35483267761\n120  :  1.35097447924\n125  :  1.34702020221\n130  :  1.3439717579\n135  : "
     ]
    },
    {
     "name": "stdout",
     "output_type": "stream",
     "text": [
      " 1.34063736829\n140  :  1.33842150597\n145  :  1.33559866265\n150  :  1.3339796762\n155  :  1.33130824133\n160  :  1.32983198346\n165  :  1.32698947427\n"
     ]
    },
    {
     "name": "stdout",
     "output_type": "stream",
     "text": [
      "170  :  1.32541218039\n175  :  1.32239784985\n180  :  1.32076100862\n185  :  1.31772257569\n190  :  1.31612694621\n195  :  1.31317456496\n200  :  1.3116772773\n205  :  1.30885829394\n210  :  1.30747696215\n"
     ]
    },
    {
     "name": "stdout",
     "output_type": "stream",
     "text": [
      "215  :  1.30480207613\n220  :  1.30353499209\n225  :  1.30099933451\n230  :  1.29983774379\n235  :  1.29743135344\n240  :  1.29636490965\n245  :  1.29407704412\n"
     ]
    },
    {
     "name": "stdout",
     "output_type": "stream",
     "text": [
      "250  :  1.29309585342\n255  :  1.29091650305\n260  :  1.29001173203\n265  :  1.28793200576\n270  :  1.28709594642\n275  :  1.28510805083\n280  :  1.28433400936\n"
     ]
    },
    {
     "name": "stdout",
     "output_type": "stream",
     "text": [
      "285  :  1.28243110892\n290  :  1.28171325736\n295  :  1.27988932135\n300  :  1.27922255935\n305  :  1.277472228\n310  :  1.27685206659\n315  :  1.27517054225\n"
     ]
    },
    {
     "name": "stdout",
     "output_type": "stream",
     "text": [
      "320  :  1.27459300941\n325  :  1.27297597008\n330  :  1.27243753445\n335  :  1.27088106496\n340  :  1.27037857393\n345  :  1.26887911068\n350  :  1.26840973954\n"
     ]
    },
    {
     "name": "stdout",
     "output_type": "stream",
     "text": [
      "355  :  1.26696402544\n360  :  1.26652523514\n365  :  1.26513028243\n370  :  1.26471978417\n375  :  1.26337284327\n380  :  1.26298856847\n385  :  1.26168710157\n"
     ]
    },
    {
     "name": "stdout",
     "output_type": "stream",
     "text": [
      "390  :  1.26132717623\n395  :  1.2600688348\n400  :  1.25973155744\n405  :  1.25851416281\n410  :  1.25819798536\n415  :  1.25701951192\n420  :  1.25672302319\n"
     ]
    },
    {
     "name": "stdout",
     "output_type": "stream",
     "text": [
      "425  :  1.25558158368\n430  :  1.25530349482\n435  :  1.25419732751\n440  :  1.2539364594\n445  :  1.25286391674\n450  :  1.25261918876\n"
     ]
    },
    {
     "name": "stdout",
     "output_type": "stream",
     "text": [
      "455  :  1.2515787274\n460  :  1.25134914766\n465  :  1.25033931956\n470  :  1.25012397618\n475  :  1.2491434207\n480  :  1.24894147411\n"
     ]
    },
    {
     "name": "stdout",
     "output_type": "stream",
     "text": [
      "485  :  1.24798891095\n490  :  1.24779958701\n495  :  1.24687380992\n500  :  1.24669639387\n505  :  1.24579626491\n510  :  1.24563009587\n515  :  1.24475454035\n"
     ]
    },
    {
     "name": "stdout",
     "output_type": "stream",
     "text": [
      "520  :  1.24459900648\n525  :  1.24374700826\n530  :  1.2436015424\n535  :  1.24277213976\n540  :  1.24263621549\n545  :  1.2418284973\n550  :  1.24170162542\n"
     ]
    },
    {
     "name": "stdout",
     "output_type": "stream",
     "text": [
      "555  :  1.24091472767\n560  :  1.24079645305\n565  :  1.2400295557\n570  :  1.2399194544\n575  :  1.23917177848\n580  :  1.23906945514\n585  :  1.23834026014\n"
     ]
    },
    {
     "name": "stdout",
     "output_type": "stream",
     "text": [
      "590  :  1.23824534568\n595  :  1.23753392706\n600  :  1.23744607654\n605  :  1.23675176357\n610  :  1.23667065427\n615  :  1.2359928079\n620  :  1.23591813756\n"
     ]
    },
    {
     "name": "stdout",
     "output_type": "stream",
     "text": [
      "625  :  1.2352561486\n630  :  1.23518763384\n635  :  1.23454092114\n640  :  1.23447829602\n645  :  1.23384630488\n650  :  1.23378931957\n655  :  1.23317152021\n660  :  1.2331199398\n"
     ]
    },
    {
     "name": "stdout",
     "output_type": "stream",
     "text": [
      "665  :  1.232515826\n670  :  1.23246942936\n675  :  1.23187851714\n680  :  1.23183709594\n685  :  1.23125892234\n690  :  1.23122228016\n695  :  1.23065640211\n700"
     ]
    },
    {
     "name": "stdout",
     "output_type": "stream",
     "text": [
      "  :  1.23062435354\n705  :  1.23007034683\n710  :  1.23004271671\n715  :  1.229500175\n720  :  1.22947679773\n725  :  1.22894533159\n730  :  1.22892605045\n735  :  1.22840528656\n"
     ]
    },
    {
     "name": "stdout",
     "output_type": "stream",
     "text": [
      "740  :  1.22838995312\n745  :  1.22787953342\n750  :  1.22786800698\n755  :  1.22736758792\n760  :  1.227359735\n765  :  1.22686898681\n770  :  1.22686468068\n775  :  1.22638328675\n"
     ]
    },
    {
     "name": "stdout",
     "output_type": "stream",
     "text": [
      "780  :  1.22638240699\n785  :  1.22591006318\n790  :  1.22591249529\n795  :  1.22544890936\n800  :  1.22545454436\n805  :  1.22499943543\n810  :  1.22500816954\n815  :  1.22456126753\n"
     ]
    },
    {
     "name": "stdout",
     "output_type": "stream",
     "text": [
      "820  :  1.22457300184\n825  :  1.22413404699\n830  :  1.22414868716\n835  :  1.22371742955\n840  :  1.22373488554\n845  :  1.22331108465\n850  :  1.22333127048\n855  :  1.22291469476\n"
     ]
    },
    {
     "name": "stdout",
     "output_type": "stream",
     "text": [
      "860  :  1.22293752824\n865  :  1.2225279547\n870  :  1.22255335725\n875  :  1.22215057113\n880  :  1.22217846752\n885  :  1.22178226187\n890  :  1.22181258008\n895  :  1.22142275547\n"
     ]
    },
    {
     "name": "stdout",
     "output_type": "stream",
     "text": [
      "900  :  1.22145542648\n905  :  1.22107179065\n910  :  1.2211067483\n915  :  1.22072911585\n920  :  1.22076629665\n925  :  1.22039448879\n930  :  1.22043383181\n935  :  1.22006767602\n"
     ]
    },
    {
     "name": "stdout",
     "output_type": "stream",
     "text": [
      "940  :  1.22010912272\n945  :  1.21974845256\n950  :  1.2197919467\n955  :  1.21943660148\n960  :  1.21948208896\n965  :  1.21913191359\n970  :  1.21917934238\n975  :  1.21883418705\n"
     ]
    },
    {
     "name": "stdout",
     "output_type": "stream",
     "text": [
      "980  :  1.21888350707\n985  :  1.21854322712\n990  :  1.21859439012\n995  :  1.21825884579\nACC_train: 0.6165\n"
     ]
    }
   ],
   "source": [
    "x_smx = h.reshape(-1, train_num).T\n",
    "x_smx = scale(x_smx)\n",
    "w_smx = SoftmaxRe.softmax_regression(x_smx, y_train, \n",
    "                                     alpha=3e-4, n_iters=4  00, lambd=1e-3)"
   ]
  },
  {
   "cell_type": "code",
   "execution_count": 26,
   "metadata": {},
   "outputs": [
    {
     "data": {
      "text/plain": [
       "(3, 3, 25, 2000)"
      ]
     },
     "execution_count": 26,
     "metadata": {},
     "output_type": "execute_result"
    }
   ],
   "source": [
    "h.shape\n"
   ]
  },
  {
   "cell_type": "code",
   "execution_count": null,
   "metadata": {},
   "outputs": [],
   "source": []
  }
 ],
 "metadata": {
  "kernelspec": {
   "display_name": "Python 2",
   "language": "python",
   "name": "python2"
  },
  "language_info": {
   "codemirror_mode": {
    "name": "ipython",
    "version": 2
   },
   "file_extension": ".py",
   "mimetype": "text/x-python",
   "name": "python",
   "nbconvert_exporter": "python",
   "pygments_lexer": "ipython2",
   "version": "2.7.6"
  }
 },
 "nbformat": 4,
 "nbformat_minor": 0
}
