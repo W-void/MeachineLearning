{
 "cells": [
  {
   "cell_type": "code",
   "execution_count": 1,
   "metadata": {
    "collapsed": true
   },
   "outputs": [],
   "source": [
    "import numpy as np\n",
    "import cv2\n",
    "import matplotlib.pyplot as plt\n",
    "import scipy.io as scio\n",
    "import linearDecode\n",
    "import SoftmaxRe\n",
    "from sklearn.preprocessing import OneHotEncoder, scale\n",
    "from scipy import signal"
   ]
  },
  {
   "cell_type": "code",
   "execution_count": 4,
   "metadata": {},
   "outputs": [],
   "source": [
    "path = 'F:/实习/UFLDL/stlSubset'\n",
    "data_test = scio.loadmat(path + '/stlTestSubset.mat')\n",
    "data_train = scio.loadmat(path + '/stlTrainSubset.mat')\n",
    "\n",
    "x_train, x_test, y_train, y_test = data_train['trainImages'], data_test['testImages'], \\\n",
    "                                   data_train['trainLabels'], data_test['testLabels']"
   ]
  },
  {
   "cell_type": "code",
   "execution_count": 5,
   "metadata": {
    "collapsed": true
   },
   "outputs": [],
   "source": [
    "def sigmoid(z):\n",
    "    return 1 / (1 + np.exp(-z))\n",
    "\n",
    "\n",
    "def ZCAwhiten(x):\n",
    "    a, _, c, m = x.shape\n",
    "    x = x.reshape(-1, m)\n",
    "    x_mean = np.mean(x, 1).reshape(-1, 1)\n",
    "    x -= x_mean\n",
    "    # inn = x.T @ x\n",
    "    # w, v = np.linalg.eig(inn)\n",
    "    u, w, vh = np.linalg.svd(x)\n",
    "    epsilon = np.ones((u.shape[0])) * 1e-6\n",
    "    epsilon[:w.shape[0]] = w\n",
    "    x_whiten = u / epsilon @ u.T @ x \n",
    "    return x_whiten.reshape(a, a, c, m)"
   ]
  },
  {
   "cell_type": "code",
   "execution_count": 6,
   "metadata": {
    "collapsed": true
   },
   "outputs": [],
   "source": [
    "x_train, x_test = ZCAwhiten(x_train), ZCAwhiten(x_test)\n",
    "# x_train = scale(x_train.reshape(-1, x_train.shape[-1]).T).reshape(64, 64, 3, -1)\n",
    "# x_test = scale(x_test.reshape(-1, x_test.shape[-1]).T).reshape(64, 64, 3, -1)"
   ]
  },
  {
   "cell_type": "code",
   "execution_count": 7,
   "metadata": {
    "collapsed": true
   },
   "outputs": [],
   "source": [
    "w_ld = np.load('w_linearDecode.npy')\n",
    "b_ld, w_ld = w_ld[0], w_ld[1:]\n",
    "kernelSize2, featureNum = w_ld.shape\n",
    "kernelSize = np.sqrt(kernelSize2/3)\n",
    "w_ld = w_ld.T.reshape(25, 3, 8, 8, order='C')\n",
    "channelNum = 3\n",
    "img_width, _, _, train_num = x_train.shape"
   ]
  },
  {
   "cell_type": "code",
   "execution_count": 8,
   "metadata": {
    "collapsed": true
   },
   "outputs": [
    {
     "name": "stdout",
     "output_type": "stream",
     "text": [
      "0\n",
      "100\n",
      "200\n",
      "300\n",
      "400\n",
      "500\n",
      "600\n",
      "700\n",
      "800\n",
      "900\n",
      "1000\n",
      "1100\n",
      "1200\n",
      "1300\n",
      "1400\n",
      "1500\n",
      "1600\n",
      "1700\n",
      "1800\n",
      "1900\n"
     ]
    }
   ],
   "source": [
    "h = np.zeros((img_width, img_width, featureNum, train_num))\n",
    "for t in range(train_num):\n",
    "    if t % 100 == 0:\n",
    "        print(t)\n",
    "    img = x_train[:, :, :, t]\n",
    "    for f in range(featureNum):\n",
    "        w = np.rot90(w_ld[f], 2)\n",
    "        res = cv2.filter2D(img, ddepth=-1, kernel=w.T)\n",
    "        res = np.sum(res, -1) + b_ld[f]\n",
    "        h[:, :, f, t] = sigmoid(res)"
   ]
  },
  {
   "cell_type": "code",
   "execution_count": 9,
   "metadata": {},
   "outputs": [
    {
     "name": "stdout",
     "output_type": "stream",
     "text": [
      "8.0 4 60\n",
      "(57, 57, 25, 2000)\n"
     ]
    }
   ],
   "source": [
    "left, right = int(kernelSize // 2), int(img_width - kernelSize // 2)\n",
    "print(kernelSize, left, right)\n",
    "h = h[left-1:right, left-1:right, :, :]\n",
    "print(h.shape)\n",
    "enc = OneHotEncoder()\n",
    "y_train = enc.fit_transform(y_train).toarray()"
   ]
  },
  {
   "cell_type": "code",
   "execution_count": 10,
   "metadata": {
    "collapsed": true
   },
   "outputs": [],
   "source": [
    "def avePool(x, size):\n",
    "    fil = np.ones((size, size)) / size**2\n",
    "    img_width, _, channelNum, imgNum = x.shape\n",
    "    y_width = img_width // size\n",
    "    y = np.zeros((y_width, y_width, channelNum, imgNum))\n",
    "    for i in range(y_width):\n",
    "        for j in range(y_width):\n",
    "            tmp = x[i*size : (i+1)*size, j*size : (j+1)*size, :, :]\n",
    "            tmp = np.mean(tmp, 0)\n",
    "            tmp = np.mean(tmp, 0)\n",
    "            y[i, j] = tmp\n",
    "\n",
    "    return y"
   ]
  },
  {
   "cell_type": "code",
   "execution_count": 11,
   "metadata": {
    "collapsed": true
   },
   "outputs": [],
   "source": [
    "h = avePool(h, size=19)"
   ]
  },
  {
   "cell_type": "code",
   "execution_count": 33,
   "metadata": {
    "collapsed": true
   },
   "outputs": [
    {
     "name": "stdout",
     "output_type": "stream",
     "text": [
      "0  :  2.85903876286\n",
      "5  :  1.79237389774\n",
      "10  :  1.68688229372\n",
      "15  :  1.62531924966\n",
      "20  :  1.5819596494\n",
      "25  :  1.54880832517\n",
      "30  :  1.52226617524\n",
      "35  :  1.50030335249\n",
      "40  :  1.4817376931\n",
      "45  :  1.46573163245\n",
      "50  :  1.45177364918\n",
      "55  :  1.43941763952\n",
      "60  :  1.42842360901\n",
      "65  :  1.41850024121\n",
      "70  :  1.40955246591\n",
      "75  :  1.40134536466\n",
      "80  :  1.39388742786\n",
      "85  :  1.38694331713\n",
      "90  :  1.3806221362\n",
      "95  :  1.37464115741\n",
      "100  :  1.36923357779\n",
      "105  :  1.36401745475\n",
      "110  :  1.35939972856\n",
      "115  :  1.35483267761\n",
      "120  :  1.35097447924\n",
      "125  :  1.34702020221\n",
      "130  :  1.3439717579\n",
      "135  :  1.34063736829\n",
      "140  :  1.33842150597\n",
      "145  :  1.33559866265\n",
      "150  :  1.3339796762\n",
      "155  :  1.33130824133\n",
      "160  :  1.32983198346\n",
      "165  :  1.32698947427\n",
      "170  :  1.32541218039\n",
      "175  :  1.32239784985\n",
      "180  :  1.32076100862\n",
      "185  :  1.31772257569\n",
      "190  :  1.31612694621\n",
      "195  :  1.31317456496\n",
      "200  :  1.3116772773\n",
      "205  :  1.30885829394\n",
      "210  :  1.30747696215\n",
      "215  :  1.30480207613\n",
      "220  :  1.30353499209\n",
      "225  :  1.30099933451\n",
      "230  :  1.29983774379\n",
      "235  :  1.29743135344\n",
      "240  :  1.29636490965\n",
      "245  :  1.29407704412\n",
      "250  :  1.29309585342\n",
      "255  :  1.29091650305\n",
      "260  :  1.29001173203\n",
      "265  :  1.28793200576\n",
      "270  :  1.28709594642\n",
      "275  :  1.28510805083\n",
      "280  :  1.28433400936\n",
      "285  :  1.28243110892\n",
      "290  :  1.28171325736\n",
      "295  :  1.27988932135\n",
      "300  :  1.27922255935\n",
      "305  :  1.277472228\n",
      "310  :  1.27685206659\n",
      "315  :  1.27517054225\n",
      "320  :  1.27459300941\n",
      "325  :  1.27297597008\n",
      "330  :  1.27243753445\n",
      "335  :  1.27088106496\n",
      "340  :  1.27037857393\n",
      "345  :  1.26887911068\n",
      "350  :  1.26840973954\n",
      "355  :  1.26696402544\n",
      "360  :  1.26652523514\n",
      "365  :  1.26513028243\n",
      "370  :  1.26471978417\n",
      "375  :  1.26337284327\n",
      "380  :  1.26298856847\n",
      "385  :  1.26168710157\n",
      "390  :  1.26132717623\n",
      "395  :  1.2600688348\n",
      "400  :  1.25973155744\n",
      "405  :  1.25851416281\n",
      "410  :  1.25819798536\n",
      "415  :  1.25701951192\n",
      "420  :  1.25672302319\n",
      "425  :  1.25558158368\n",
      "430  :  1.25530349482\n",
      "435  :  1.25419732751\n",
      "440  :  1.2539364594\n",
      "445  :  1.25286391674\n",
      "450  :  1.25261918876\n",
      "455  :  1.2515787274\n",
      "460  :  1.25134914766\n",
      "465  :  1.25033931956\n",
      "470  :  1.25012397618\n",
      "475  :  1.2491434207\n",
      "480  :  1.24894147411\n",
      "485  :  1.24798891095\n",
      "490  :  1.24779958701\n",
      "495  :  1.24687380992\n",
      "500  :  1.24669639387\n",
      "505  :  1.24579626491\n",
      "510  :  1.24563009587\n",
      "515  :  1.24475454035\n",
      "520  :  1.24459900648\n",
      "525  :  1.24374700826\n",
      "530  :  1.2436015424\n",
      "535  :  1.24277213976\n",
      "540  :  1.24263621549\n",
      "545  :  1.2418284973\n",
      "550  :  1.24170162542\n",
      "555  :  1.24091472767\n",
      "560  :  1.24079645305\n",
      "565  :  1.2400295557\n",
      "570  :  1.2399194544\n",
      "575  :  1.23917177848\n",
      "580  :  1.23906945514\n",
      "585  :  1.23834026014\n",
      "590  :  1.23824534568\n",
      "595  :  1.23753392706\n",
      "600  :  1.23744607654\n",
      "605  :  1.23675176357\n",
      "610  :  1.23667065427\n",
      "615  :  1.2359928079\n",
      "620  :  1.23591813756\n",
      "625  :  1.2352561486\n",
      "630  :  1.23518763384\n",
      "635  :  1.23454092114\n",
      "640  :  1.23447829602\n",
      "645  :  1.23384630488\n",
      "650  :  1.23378931957\n",
      "655  :  1.23317152021\n",
      "660  :  1.2331199398\n",
      "665  :  1.232515826\n",
      "670  :  1.23246942936\n",
      "675  :  1.23187851714\n",
      "680  :  1.23183709594\n",
      "685  :  1.23125892234\n",
      "690  :  1.23122228016\n",
      "695  :  1.23065640211\n",
      "700  :  1.23062435354\n",
      "705  :  1.23007034683\n",
      "710  :  1.23004271671\n",
      "715  :  1.229500175\n",
      "720  :  1.22947679773\n",
      "725  :  1.22894533159\n",
      "730  :  1.22892605045\n",
      "735  :  1.22840528656\n",
      "740  :  1.22838995312\n",
      "745  :  1.22787953342\n",
      "750  :  1.22786800698\n",
      "755  :  1.22736758792\n",
      "760  :  1.227359735\n",
      "765  :  1.22686898681\n",
      "770  :  1.22686468068\n",
      "775  :  1.22638328675\n",
      "780  :  1.22638240699\n",
      "785  :  1.22591006318\n",
      "790  :  1.22591249529\n",
      "795  :  1.22544890936\n",
      "800  :  1.22545454436\n",
      "805  :  1.22499943543\n",
      "810  :  1.22500816954\n",
      "815  :  1.22456126753\n",
      "820  :  1.22457300184\n",
      "825  :  1.22413404699\n",
      "830  :  1.22414868716\n",
      "835  :  1.22371742955\n",
      "840  :  1.22373488554\n",
      "845  :  1.22331108465\n",
      "850  :  1.22333127048\n",
      "855  :  1.22291469476\n",
      "860  :  1.22293752824\n",
      "865  :  1.2225279547\n",
      "870  :  1.22255335725\n",
      "875  :  1.22215057113\n",
      "880  :  1.22217846752\n",
      "885  :  1.22178226187\n",
      "890  :  1.22181258008\n",
      "895  :  1.22142275547\n",
      "900  :  1.22145542648\n",
      "905  :  1.22107179065\n",
      "910  :  1.2211067483\n",
      "915  :  1.22072911585\n",
      "920  :  1.22076629665\n",
      "925  :  1.22039448879\n",
      "930  :  1.22043383181\n",
      "935  :  1.22006767602\n",
      "940  :  1.22010912272\n",
      "945  :  1.21974845256\n",
      "950  :  1.2197919467\n",
      "955  :  1.21943660148\n",
      "960  :  1.21948208896\n",
      "965  :  1.21913191359\n",
      "970  :  1.21917934238\n",
      "975  :  1.21883418705\n",
      "980  :  1.21888350707\n",
      "985  :  1.21854322712\n",
      "990  :  1.21859439012\n",
      "995  :  1.21825884579\n",
      "ACC_train: 0.6165\n"
     ]
    }
   ],
   "source": [
    "x_smx = h.reshape(-1, train_num).T\n",
    "x_smx = scale(x_smx)\n",
    "w_smx = SoftmaxRe.softmax_regression(x_smx, y_train, \n",
    "                                     alpha=3e-4, n_iters=4  00, lambd=1e-3)"
   ]
  },
  {
   "cell_type": "code",
   "execution_count": 26,
   "metadata": {},
   "outputs": [
    {
     "data": {
      "text/plain": [
       "(3, 3, 25, 2000)"
      ]
     },
     "execution_count": 26,
     "metadata": {},
     "output_type": "execute_result"
    }
   ],
   "source": [
    "h.shape\n"
   ]
  },
  {
   "cell_type": "code",
   "execution_count": null,
   "metadata": {
    "collapsed": true
   },
   "outputs": [],
   "source": []
  }
 ],
 "metadata": {
  "kernelspec": {
   "display_name": "Python 3",
   "language": "python",
   "name": "python3"
  },
  "language_info": {
   "codemirror_mode": {
    "name": "ipython",
    "version": 3
   },
   "file_extension": ".py",
   "mimetype": "text/x-python",
   "name": "python",
   "nbconvert_exporter": "python",
   "pygments_lexer": "ipython3",
   "version": "3.6.1"
  }
 },
 "nbformat": 4,
 "nbformat_minor": 1
}
