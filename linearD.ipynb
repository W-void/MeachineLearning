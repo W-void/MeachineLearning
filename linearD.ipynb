{
 "cells": [
  {
   "cell_type": "code",
   "execution_count": 12,
   "metadata": {
    "collapsed": true
   },
   "outputs": [],
   "source": [
    "import scipy.io as scio\n",
    "import numpy as np\n",
    "import matplotlib.pyplot as plt\n",
    "\n",
    "def sigmoid(z):\n",
    "    return 1 / (1 + np.exp(-z))\n",
    "\n",
    "\n",
    "def de_sigmoid(z):\n",
    "    return z * (1 - z)\n",
    "\n",
    "\n",
    "def ZCAwhiten(x):\n",
    "    m, n = x.shape\n",
    "    x_mean = np.mean(x, 0)\n",
    "    x = x - x_mean\n",
    "    cov = x.T @ x / m \n",
    "    w, v = np.linalg.eig(cov)\n",
    "    x_whiten = x @ v / w @ v.T\n",
    "    return x_whiten\n",
    "\n",
    "\n",
    "def linearDe(x, n_iter=400, layer_size=400, p=0.035, alpha=0.001, beta=1):\n",
    "    m, n = x.shape\n",
    "    x_ = np.hstack((np.ones((m, 1)), x))\n",
    "    np.random.seed(5)\n",
    "    low = np.sqrt(6 / (n + layer_size))\n",
    "    w1 = np.random.uniform(-low, low, (n + 1, layer_size))\n",
    "    w2 = np.random.uniform(-low, low, (layer_size + 1, n))\n",
    "\n",
    "    for i in range(n_iter):\n",
    "        # 前向传播\n",
    "        h = sigmoid(x_ @ w1)\n",
    "        h_ = np.hstack((np.ones((h.shape[0], 1)), h))\n",
    "        x_hat = h_ @ w2\n",
    "\n",
    "        # 计算损失\n",
    "        p_hat = np.mean(h, 1)\n",
    "        kl = -np.sum(p * np.log(p_hat) + (1-p) * np.log(1-p_hat))\n",
    "        err = x_hat - x\n",
    "        cost = (np.sum(err.T @ err) / 2 + beta * kl) / m\n",
    "        if i % 1 == 0:\n",
    "            print(i, ' : ', cost)\n",
    "\n",
    "        # 反向传播\n",
    "        delta2 = err\n",
    "        grad2 = alpha * h_.T @ delta2 / m\n",
    "\n",
    "        delta1 = delta2 @ w2[1:].T + beta * (-p/p_hat + (1-p)/(1-p_hat)).reshape(-1, 1) * de_sigmoid(h)\n",
    "\n",
    "        grad1 = alpha * x_.T @ delta1 / m\n",
    "\n",
    "        w2 -= grad2\n",
    "        w1 -= grad1\n",
    "\n",
    "    return w1, h, x_hat\n",
    "\n",
    "\n",
    "def visualizeW1(opt_W1, vis_patch_side, hid_patch_side):\n",
    "    \"\"\" Add the weights as a matrix of images \"\"\"\n",
    "\n",
    "    figure, axes = plt.subplots(nrows=hid_patch_side,\n",
    "                                              ncols=hid_patch_side)\n",
    "    index = 0\n",
    "\n",
    "    for axis in axes.flat:\n",
    "        \"\"\" Add row of weights as an image to the plot \"\"\"\n",
    "\n",
    "        image = axis.imshow(opt_W1[index].reshape(3, vis_patch_side, vis_patch_side).T,\n",
    "                             interpolation='nearest')\n",
    "        axis.set_frame_on(False)\n",
    "        axis.set_axis_off()\n",
    "        index += 1\n",
    "\n",
    "    \"\"\" Show the obtained plot \"\"\"\n",
    "\n",
    "    plt.show()\n"
   ]
  },
  {
   "cell_type": "code",
   "execution_count": 2,
   "metadata": {
    "collapsed": false
   },
   "outputs": [
    {
     "name": "stdout",
     "output_type": "stream",
     "text": [
      "(100000, 192)\n"
     ]
    }
   ],
   "source": [
    "path = 'F:/UFLDL/stlSampledPatches.mat'\n",
    "data = scio.loadmat(path)\n",
    "\n",
    "x = data['patches'].T\n",
    "x = ZCAwhiten(x)\n",
    "print(x.shape)"
   ]
  },
  {
   "cell_type": "code",
   "execution_count": 14,
   "metadata": {
    "collapsed": true
   },
   "outputs": [
    {
     "name": "stderr",
     "output_type": "stream",
     "text": [
      "H:\\Anaconda3\\lib\\site-packages\\ipykernel_launcher.py:6: RuntimeWarning: overflow encountered in exp\n  \n"
     ]
    },
    {
     "name": "stdout",
     "output_type": "stream",
     "text": [
      "0  :  43.7015169456\n"
     ]
    },
    {
     "name": "stdout",
     "output_type": "stream",
     "text": [
      "1  :  39.4913058011\n"
     ]
    },
    {
     "name": "stdout",
     "output_type": "stream",
     "text": [
      "2  :  34.9390874435\n"
     ]
    },
    {
     "name": "stdout",
     "output_type": "stream",
     "text": [
      "3  :  32.4466809913\n"
     ]
    },
    {
     "name": "stdout",
     "output_type": "stream",
     "text": [
      "4  :  30.7967315586\n"
     ]
    },
    {
     "name": "stdout",
     "output_type": "stream",
     "text": [
      "5  :  29.7539964798\n"
     ]
    },
    {
     "name": "stdout",
     "output_type": "stream",
     "text": [
      "6  :  29.0838033374\n"
     ]
    },
    {
     "name": "stdout",
     "output_type": "stream",
     "text": [
      "7  :  28.6326220736\n"
     ]
    },
    {
     "name": "stdout",
     "output_type": "stream",
     "text": [
      "8  :  28.3054440217\n"
     ]
    },
    {
     "name": "stdout",
     "output_type": "stream",
     "text": [
      "9  :  28.0437762909\n"
     ]
    },
    {
     "name": "stdout",
     "output_type": "stream",
     "text": [
      "10  :  27.8506702037\n"
     ]
    },
    {
     "name": "stdout",
     "output_type": "stream",
     "text": [
      "11  :  27.6850791968\n"
     ]
    },
    {
     "name": "stdout",
     "output_type": "stream",
     "text": [
      "12  :  27.5610981074\n"
     ]
    },
    {
     "name": "stdout",
     "output_type": "stream",
     "text": [
      "13  :  27.4508079762\n"
     ]
    },
    {
     "name": "stdout",
     "output_type": "stream",
     "text": [
      "14  :  27.3436039483\n"
     ]
    },
    {
     "name": "stdout",
     "output_type": "stream",
     "text": [
      "15  :  27.2716645728\n"
     ]
    },
    {
     "name": "stdout",
     "output_type": "stream",
     "text": [
      "16  :  27.1764598637\n"
     ]
    },
    {
     "name": "stdout",
     "output_type": "stream",
     "text": [
      "17  :  27.1133112214\n"
     ]
    },
    {
     "name": "stdout",
     "output_type": "stream",
     "text": [
      "18  :  27.0357543457\n"
     ]
    },
    {
     "name": "stdout",
     "output_type": "stream",
     "text": [
      "19  :  26.9757791056\n"
     ]
    },
    {
     "name": "stdout",
     "output_type": "stream",
     "text": [
      "20  :  26.9482820118\n"
     ]
    },
    {
     "name": "stdout",
     "output_type": "stream",
     "text": [
      "21  :  26.9290435815\n"
     ]
    },
    {
     "name": "stdout",
     "output_type": "stream",
     "text": [
      "22  :  26.8873585867\n"
     ]
    },
    {
     "name": "stdout",
     "output_type": "stream",
     "text": [
      "23  :  26.8297248207\n"
     ]
    },
    {
     "name": "stdout",
     "output_type": "stream",
     "text": [
      "24  :  26.8082660827\n"
     ]
    },
    {
     "name": "stdout",
     "output_type": "stream",
     "text": [
      "25  :  26.7711912913\n"
     ]
    },
    {
     "name": "stdout",
     "output_type": "stream",
     "text": [
      "26  :  26.722511661\n"
     ]
    },
    {
     "name": "stdout",
     "output_type": "stream",
     "text": [
      "27  :  26.6894801435\n"
     ]
    },
    {
     "name": "stdout",
     "output_type": "stream",
     "text": [
      "28  :  26.6396892767\n"
     ]
    },
    {
     "name": "stdout",
     "output_type": "stream",
     "text": [
      "29  :  26.5995470567\n"
     ]
    },
    {
     "name": "stdout",
     "output_type": "stream",
     "text": [
      "30  :  26.5882584847\n"
     ]
    },
    {
     "name": "stdout",
     "output_type": "stream",
     "text": [
      "31  :  26.5483695505\n"
     ]
    },
    {
     "name": "stdout",
     "output_type": "stream",
     "text": [
      "32  :  26.5158235355\n"
     ]
    },
    {
     "name": "stdout",
     "output_type": "stream",
     "text": [
      "33  :  26.4919934314\n"
     ]
    },
    {
     "name": "stdout",
     "output_type": "stream",
     "text": [
      "34  :  26.4636589493\n"
     ]
    },
    {
     "name": "stdout",
     "output_type": "stream",
     "text": [
      "35  :  26.4424456613\n"
     ]
    },
    {
     "name": "stdout",
     "output_type": "stream",
     "text": [
      "36  :  26.4290436805\n"
     ]
    },
    {
     "name": "stdout",
     "output_type": "stream",
     "text": [
      "37  :  26.4063465137\n"
     ]
    },
    {
     "name": "stdout",
     "output_type": "stream",
     "text": [
      "38  :  26.3791606086\n"
     ]
    },
    {
     "name": "stdout",
     "output_type": "stream",
     "text": [
      "39  :  26.3656848169\n"
     ]
    }
   ],
   "source": [
    "layer_size = 5\n",
    "w, h, x_hat = linearDe(x, n_iter=50, layer_size=layer_size*layer_size, \n",
    "                       p=0.01, alpha=0.001, beta=1)"
   ]
  },
  {
   "cell_type": "code",
   "execution_count": 15,
   "metadata": {
    "collapsed": true
   },
   "outputs": [
    {
     "data": {
      "image/png": "[encoded data removed]",
      "text/plain": [
       "<matplotlib.figure.Figure at 0x8204ec518>"
      ]
     },
     "metadata": {},
     "output_type": "display_data"
    }
   ],
   "source": [
    "visualizeW1(w[1:].T, 8, layer_size)\n",
    "# np.save('w_linearDecode.npy', arr=w)"
   ]
  },
  {
   "cell_type": "code",
   "execution_count": 39,
   "metadata": {
    "collapsed": false
   },
   "outputs": [
    {
     "name": "stdout",
     "output_type": "stream",
     "text": [
      "(300, 2)\n"
     ]
    },
    {
     "data": {
      "image/png": "[encoded data removed]",
      "text/plain": [
       "<matplotlib.figure.Figure at 0x66ad1bc8d0>"
      ]
     },
     "metadata": {},
     "output_type": "display_data"
    },
    {
     "data": {
      "image/png": "[encoded data removed]",
      "text/plain": [
       "<matplotlib.figure.Figure at 0x66ad24ceb8>"
      ]
     },
     "metadata": {},
     "output_type": "display_data"
    },
    {
     "name": "stdout",
     "output_type": "stream",
     "text": [
      "[ 1.  1.]\n"
     ]
    }
   ],
   "source": [
    "# a = np.arange(20).reshape(5, 4)\n",
    "mean = np.array([0, 0])\n",
    "cov = np.array([[1, 0.5], [0.5, 0.5]])\n",
    "a = np.random.multivariate_normal(mean, cov, 300)\n",
    "print(a.shape)\n",
    "plt.figure()\n",
    "plt.scatter(a[:, 0], a[:, 1])\n",
    "plt.show()\n",
    "w, v = np.linalg.eig(a.T @ a)\n",
    "a_whiten = a @ v / np.sqrt(w) @ v.T\n",
    "plt.figure()\n",
    "plt.scatter(a_whiten[:, 0], a_whiten[:, 1])\n",
    "plt.show()\n",
    "w_, v_ =np.linalg.eig(a_whiten.T @ a_whiten)\n",
    "print(w_)"
   ]
  },
  {
   "cell_type": "code",
   "execution_count": 16,
   "metadata": {},
   "outputs": [
    {
     "name": "stdout",
     "output_type": "stream",
     "text": [
      "(2,)\n"
     ]
    },
    {
     "data": {
      "text/plain": [
       "array([[ 0. ,  0.5],\n       [ 2. ,  1.5],\n       [ 4. ,  2.5],\n       [ 6. ,  3.5],\n       [ 8. ,  4.5]])"
      ]
     },
     "execution_count": 16,
     "metadata": {},
     "output_type": "execute_result"
    }
   ],
   "source": [
    "a = np.arange(10).reshape(5, 2)\n",
    "b = np.array([1, 2])\n",
    "print(b.shape)\n",
    "a / b"
   ]
  },
  {
   "cell_type": "code",
   "execution_count": 11,
   "metadata": {},
   "outputs": [
    {
     "name": "stdout",
     "output_type": "stream",
     "text": [
      "[[[ 0  4  8]\n  [ 2  6 10]]\n\n [[ 1  5  9]\n  [ 3  7 11]]]\n"
     ]
    }
   ],
   "source": [
    "a = np.arange(3*2*2).reshape(3, 2, 2)\n",
    "print(a.T)"
   ]
  },
  {
   "cell_type": "code",
   "execution_count": null,
   "metadata": {},
   "outputs": [],
   "source": []
  }
 ],
 "metadata": {
  "kernelspec": {
   "display_name": "Python 2",
   "language": "python",
   "name": "python2"
  },
  "language_info": {
   "codemirror_mode": {
    "name": "ipython",
    "version": 2
   },
   "file_extension": ".py",
   "mimetype": "text/x-python",
   "name": "python",
   "nbconvert_exporter": "python",
   "pygments_lexer": "ipython2",
   "version": "2.7.6"
  }
 },
 "nbformat": 4,
 "nbformat_minor": 0
}
